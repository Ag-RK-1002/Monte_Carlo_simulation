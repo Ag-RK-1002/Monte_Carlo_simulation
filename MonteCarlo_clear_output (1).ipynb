{
 "cells": [
  {
   "cell_type": "code",
   "execution_count": null,
   "id": "18ad88b6",
   "metadata": {},
   "outputs": [],
   "source": [
    "pip install --upgrade pip"
   ]
  },
  {
   "cell_type": "code",
   "execution_count": null,
   "id": "8f3b29ea",
   "metadata": {},
   "outputs": [],
   "source": [
    "#for saving the videos and animations used for visualisation\n",
    "!pip install \"imageio[ffmpeg]\"\n"
   ]
  },
  {
   "cell_type": "code",
   "execution_count": null,
   "id": "1d81b343",
   "metadata": {},
   "outputs": [],
   "source": [
    "#Allows interactive plotting \n",
    "!pip install ipympl\n"
   ]
  },
  {
   "cell_type": "markdown",
   "id": "26032a55",
   "metadata": {},
   "source": [
    "# libraries and dependencies"
   ]
  },
  {
   "cell_type": "code",
   "execution_count": null,
   "id": "0bbe843e",
   "metadata": {},
   "outputs": [],
   "source": [
    "import numpy as np                  #for numerical calculation\n",
    "import matplotlib.pyplot as plt     #for plotting\n",
    "from mpl_toolkits.mplot3d import Axes3D           #for 3D plotting\n",
    "from matplotlib.animation import FuncAnimation    #for animation\n",
    "from IPython.display import HTML                  #to display animation inline in the notebook"
   ]
  },
  {
   "cell_type": "code",
   "execution_count": null,
   "id": "479f3680",
   "metadata": {},
   "outputs": [],
   "source": [
    "#activates the interactive window in python Jupyter\n",
    "%matplotlib widget\n"
   ]
  },
  {
   "cell_type": "markdown",
   "id": "f27918ab",
   "metadata": {},
   "source": [
    "# Simulation Specifications"
   ]
  },
  {
   "cell_type": "code",
   "execution_count": null,
   "id": "bfd451e7",
   "metadata": {},
   "outputs": [],
   "source": [
    "L=10.0           #size of the cubic simulation box(L*L*L)\n",
    "rc=2.5           #cutoff radius for LJ potential beyond which the potential is 0\n",
    "V=1000.0         #volume of the simulation box\n",
    "rho=0.1          #number density- no of particles per unit volume\n",
    "N=int(rho*V)     #total number of particles\n",
    "T=0.4            #Temperature \n",
    "beta=1.0/T       #inverse temp (for metropolis)\n",
    "n_steps=20000    #no of monte carlo steps\n",
    "max_disp=0.4     #max displacement for trial move\n",
    "save_every=10    #save config everyt 10 steps for animation\n",
    "\n",
    "np.random.seed(42)  #same randpmness everytime code is run"
   ]
  },
  {
   "cell_type": "markdown",
   "id": "1ede3085",
   "metadata": {},
   "source": [
    "T = 0.3 means:\n",
    "\n",
    "Temperature is low, relative to the depth of the potential well (ε). particles move slowly and perfer low potential\n",
    "\n",
    "The system has less thermal energy compared to the potential energy barrier."
   ]
  },
  {
   "cell_type": "markdown",
   "id": "e520fbda",
   "metadata": {},
   "source": [
    "# Generates N random 3d postitons inside the box"
   ]
  },
  {
   "cell_type": "code",
   "execution_count": null,
   "id": "a3780441",
   "metadata": {},
   "outputs": [],
   "source": [
    "def initialise_positions(N,L):\n",
    "    return np.random.rand(N,3)*L"
   ]
  },
  {
   "cell_type": "markdown",
   "id": "50efb541",
   "metadata": {},
   "source": [
    "# Ensures no overlap "
   ]
  },
  {
   "cell_type": "code",
   "execution_count": null,
   "id": "4c2d70db",
   "metadata": {},
   "outputs": [],
   "source": [
    "def initialize_positions_no_overlap(N, L, min_dist=0.8):\n",
    "    #blank list to later add to the code\n",
    "    positions = []\n",
    "    while len(positions) < N:\n",
    "        \n",
    "        #randomly generates trial position\n",
    "        trial = np.random.rand(3) * L\n",
    "        \n",
    "        #checks if its min dist from all positions\n",
    "        if all(np.linalg.norm(NearestImg(trial - np.array(pos), L)) > min_dist for pos in positions):\n",
    "            positions.append(trial)\n",
    "    return np.array(positions)\n"
   ]
  },
  {
   "cell_type": "markdown",
   "id": "5c894d69",
   "metadata": {},
   "source": [
    "# Applies periodic boundary condition "
   ]
  },
  {
   "cell_type": "code",
   "execution_count": null,
   "id": "59aaf2bc",
   "metadata": {},
   "outputs": [],
   "source": [
    "def apply_periodic(pos,L):\n",
    "    return pos%L"
   ]
  },
  {
   "cell_type": "code",
   "execution_count": null,
   "id": "10d887d3",
   "metadata": {},
   "outputs": [],
   "source": [
    "#finds the shortest distance between two particles, accounting for periodic boundaries.\n",
    "def NearestImg(rij,L):    \n",
    "    return rij-L*np.round(rij/L)"
   ]
  },
  {
   "cell_type": "markdown",
   "id": "afc2cf44",
   "metadata": {},
   "source": [
    "# Energy and potential calculation"
   ]
  },
  {
   "cell_type": "code",
   "execution_count": null,
   "id": "bed2debe",
   "metadata": {},
   "outputs": [],
   "source": [
    "#lenard jones potential\n",
    "def lj_potential(r2):\n",
    "    if r2 < rc**2:\n",
    "        inv_r6 = (1.0 / r2)**3\n",
    "        inv_r12 = inv_r6**2\n",
    "        return 4 * (inv_r12 - inv_r6)\n",
    "    return 0.0"
   ]
  },
  {
   "cell_type": "code",
   "execution_count": null,
   "id": "c15c3395",
   "metadata": {},
   "outputs": [],
   "source": [
    "#calculate total energy using LJ potential\n",
    "def total_energy(positions):\n",
    "    energy = 0.0\n",
    "    for i in range(N):\n",
    "        for j in range(i + 1, N):\n",
    "            rij = NearestImg(positions[i] - positions[j], L)\n",
    "            r2 = np.dot(rij, rij)\n",
    "            energy += lj_potential(r2)\n",
    "    return energy"
   ]
  },
  {
   "cell_type": "markdown",
   "id": "50fdfc64",
   "metadata": {},
   "source": [
    "# Part where the the random displacement and energy diff calculatiosna re performed\n"
   ]
  },
  {
   "cell_type": "markdown",
   "id": "73273e29",
   "metadata": {},
   "source": [
    "# Monte Carlo Step"
   ]
  },
  {
   "cell_type": "code",
   "execution_count": null,
   "id": "9bb33fd8",
   "metadata": {},
   "outputs": [],
   "source": [
    "def monte_carlo_step(positions, energy):\n",
    "    #random particle selection of particle\n",
    "    i = np.random.randint(N)\n",
    "    old_pos = positions[i].copy()\n",
    "    new_pos = old_pos + (np.random.rand(3) - 0.5) * max_disp\n",
    "    new_pos = apply_periodic(new_pos, L)\n",
    "\n",
    "    #energy diff calculation\n",
    "    dE = 0.0\n",
    "    for j in range(N):\n",
    "        if j != i:\n",
    "            rij_old = NearestImg(old_pos - positions[j], L)\n",
    "            rij_new = NearestImg(new_pos - positions[j], L)\n",
    "            r2_old = np.dot(rij_old, rij_old)\n",
    "            r2_new = np.dot(rij_new, rij_new)\n",
    "            dE += lj_potential(r2_new) - lj_potential(r2_old)\n",
    "\n",
    "    #acceptance critera        \n",
    "    if dE < 0.0 or np.random.rand() < np.exp(-beta * dE):\n",
    "        positions[i] = new_pos\n",
    "        energy += dE\n",
    "    return positions, energy"
   ]
  },
  {
   "cell_type": "markdown",
   "id": "c54ef194",
   "metadata": {},
   "source": [
    "# Here the positions are updated based on Energy diff calculation"
   ]
  },
  {
   "cell_type": "markdown",
   "id": "4c7a8c83",
   "metadata": {},
   "source": [
    "# Main Simulation Loop"
   ]
  },
  {
   "cell_type": "code",
   "execution_count": null,
   "id": "a7c359d9",
   "metadata": {},
   "outputs": [],
   "source": [
    "positions = initialize_positions_no_overlap(N, L)\n",
    "\n",
    "energy = total_energy(positions)\n",
    "trajectory = []\n",
    "energies = []\n",
    "\n",
    "#main simulation loop\n",
    "for step in range(n_steps):\n",
    "    \n",
    "    #monte carlo step\n",
    "    positions, energy = monte_carlo_step(positions, energy)\n",
    "    if step % save_every == 0:\n",
    "        trajectory.append(positions.copy())\n",
    "        \n",
    "        #saves the current total energy\n",
    "        energies.append(energy)\n"
   ]
  },
  {
   "cell_type": "code",
   "execution_count": null,
   "id": "e9696b4e",
   "metadata": {},
   "outputs": [],
   "source": [
    "accepted_moves = 0\n",
    "total_moves = 0\n",
    "\n",
    "trajectory = []   # List to store configurations\n",
    "energies = []     # List to store energy values\n",
    "\n",
    "\n",
    "def monte_carlo_step(positions, energy):\n",
    "    i = np.random.randint(N)\n",
    "    old_pos = positions[i].copy()\n",
    "    new_pos = old_pos + (np.random.rand(3) - 0.5) * max_disp\n",
    "    new_pos = apply_periodic(new_pos, L)\n",
    "\n",
    "    dE = 0.0\n",
    "    for j in range(N):\n",
    "        if j != i:\n",
    "            rij_old = NearestImg(old_pos - positions[j], L)\n",
    "            rij_new = NearestImg(new_pos - positions[j], L)\n",
    "            r2_old = np.dot(rij_old, rij_old)\n",
    "            r2_new = np.dot(rij_new, rij_new)\n",
    "            dE += lj_potential(r2_new) - lj_potential(r2_old)\n",
    "\n",
    "    accept = False\n",
    "    if dE < 0.0 or np.random.rand() < np.exp(-beta * dE):\n",
    "        positions[i] = new_pos\n",
    "        energy += dE\n",
    "        accept = True\n",
    "\n",
    "    return positions, energy, accept\n",
    "\n",
    "for step in range(n_steps):\n",
    "    positions, energy, accepted = monte_carlo_step(positions, energy)\n",
    "    total_moves += 1\n",
    "    if accepted:\n",
    "        accepted_moves += 1\n",
    "\n",
    "    if step % save_every == 0:\n",
    "        trajectory.append(positions.copy())\n",
    "        energies.append(energy)\n",
    "        \n",
    "acceptance_ratio = accepted_moves / total_moves\n",
    "print(f\"Acceptance Ratio: {acceptance_ratio:.3f}\")"
   ]
  },
  {
   "cell_type": "markdown",
   "id": "2f496f9a",
   "metadata": {},
   "source": [
    "# Visualisations"
   ]
  },
  {
   "cell_type": "markdown",
   "id": "e99a3570",
   "metadata": {},
   "source": [
    "# Energy Plot"
   ]
  },
  {
   "cell_type": "code",
   "execution_count": null,
   "id": "1d084cd1",
   "metadata": {},
   "outputs": [],
   "source": [
    "plt.figure(figsize=(6,4))\n",
    "plt.plot(range(0, n_steps, save_every), energies)\n",
    "plt.xlabel('Steps')\n",
    "plt.ylabel('Total Energy')\n",
    "plt.title('Energy over Time')\n",
    "plt.grid(True)\n",
    "plt.tight_layout()\n",
    "plt.show()\n"
   ]
  },
  {
   "cell_type": "markdown",
   "id": "4a6529f1",
   "metadata": {},
   "source": [
    "Initial High Energy: At the beginning of the simulation, the energy will likely be high due to random particle placements.\n",
    "\n",
    "Decrease Over Time: After a number of steps, the energy should decrease as particles move toward more favorable positions with minimal interaction energy. This trend could stabilize over time.\n",
    "\n",
    "Stable Energy: After some Monte Carlo steps (likely a few thousand), the energy might reach a relatively stable value, signifying that the system has equilibrated."
   ]
  },
  {
   "cell_type": "markdown",
   "id": "4f2291ab",
   "metadata": {},
   "source": [
    "# Energy Histogram- assuming equilibrium"
   ]
  },
  {
   "cell_type": "code",
   "execution_count": null,
   "id": "85939da1",
   "metadata": {},
   "outputs": [],
   "source": [
    "trajectory = np.array(trajectory)  # Convert list to ndarray\n",
    "n_frames, n_particles, _ = trajectory.shape\n"
   ]
  },
  {
   "cell_type": "code",
   "execution_count": null,
   "id": "0faa18df",
   "metadata": {},
   "outputs": [],
   "source": [
    "import matplotlib as mpl\n",
    "mpl.rcParams['animation.embed_limit'] = 100  # allows ~100MB instead of 20MB\n"
   ]
  },
  {
   "cell_type": "code",
   "execution_count": null,
   "id": "fd02c91a",
   "metadata": {},
   "outputs": [],
   "source": [
    "from IPython.display import display\n",
    "import ipywidgets as widgets\n",
    "\n",
    "trajectory = np.array(trajectory)  # Ensure it's a NumPy array\n",
    "n_frames, n_particles, _ = trajectory.shape\n",
    "\n",
    "initial_positions = trajectory[0]\n",
    "\n",
    "# --- 2 Subplots ---\n",
    "fig = plt.figure(figsize=(24, 10))\n",
    "\n",
    "# 3D particle movement\n",
    "ax1 = fig.add_subplot(121, projection='3d')\n",
    "scat = ax1.scatter([], [], [], s=10, c='red')\n",
    "trail_lines = [ax1.plot([], [], [], color='lightcoral', linewidth=0.5)[0] for _ in range(n_particles)]\n",
    "\n",
    "ax1.set_xlim(0, L)\n",
    "ax1.set_ylim(0, L)\n",
    "ax1.set_zlim(0, L)\n",
    "ax1.set_title('3D Particle Movement')\n",
    "\n",
    "# 2D displacement graph\n",
    "ax2 = fig.add_subplot(122)\n",
    "line2d, = ax2.plot([], [], lw=2)\n",
    "ax2.set_xlim(0, n_frames)\n",
    "ax2.set_ylim(0, np.linalg.norm(trajectory - initial_positions, axis=2).max())\n",
    "ax2.set_title('Total Displacement over Time')\n",
    "ax2.set_xlabel('Frame')\n",
    "ax2.set_ylabel('Displacement')\n",
    "\n",
    "# Store displacement over time\n",
    "displacements = np.linalg.norm(trajectory - initial_positions, axis=2).mean(axis=1)  # (n_frames,)\n",
    "\n",
    "# --- Animation Function ---\n",
    "def update(frame):\n",
    "    pos = trajectory[frame]\n",
    "    \n",
    "    # Update 3D positions\n",
    "    scat._offsets3d = (pos[:, 0], pos[:, 1], pos[:, 2])\n",
    "    \n",
    "    for i, trail in enumerate(trail_lines):\n",
    "        trail.set_data(trajectory[:frame+1, i, 0], trajectory[:frame+1, i, 1])\n",
    "        trail.set_3d_properties(trajectory[:frame+1, i, 2])\n",
    "    \n",
    "    # Update 2D plot\n",
    "    line2d.set_data(np.arange(frame+1), displacements[:frame+1])\n",
    "    \n",
    "    return scat, *trail_lines, line2d\n",
    "\n",
    "# Sliders\n",
    "frame_slider = widgets.IntSlider(min=0, max=n_frames-1, step=1, description='Frame')\n",
    "speed_slider = widgets.IntSlider(min=10, max=200, step=10, value=50, description='Speed')\n",
    "\n",
    "# Animation control\n",
    "ani = FuncAnimation(fig, update, frames=n_frames, interval=speed_slider.value, blit=False)\n",
    "display(widgets.VBox([frame_slider, speed_slider]))\n",
    "\n",
    "from IPython.display import HTML\n",
    "HTML(ani.to_jshtml())\n"
   ]
  },
  {
   "cell_type": "code",
   "execution_count": null,
   "id": "32aeeaeb",
   "metadata": {
    "scrolled": true
   },
   "outputs": [],
   "source": [
    "# Convert energies list to numpy array (in case it's a list)\n",
    "energy_array = np.array(energies)\n",
    "n_frames = len(energy_array)\n",
    "\n",
    "# Set up the plot\n",
    "fig, ax = plt.subplots(figsize=(8, 5))\n",
    "ax.set_xlim(0, n_frames)\n",
    "ax.set_ylim(energy_array.min() - 5, energy_array.max() + 5)\n",
    "ax.set_title('Energy over Time')\n",
    "ax.set_xlabel('Steps (x{})'.format(save_every))  # Show actual steps\n",
    "ax.set_ylabel('Total Energy')\n",
    "\n",
    "# Line and moving dot\n",
    "line, = ax.plot([], [], color='red', lw=2)\n",
    "dot, = ax.plot([], [], 'ro')\n",
    "\n",
    "# Update function for animation\n",
    "def update(frame):\n",
    "    x = np.arange(frame + 1)\n",
    "    y = energy_array[:frame + 1]\n",
    "    line.set_data(x, y)\n",
    "    dot.set_data(frame, energy_array[frame])\n",
    "    return line, dot\n",
    "\n",
    "# Create animation\n",
    "ani = FuncAnimation(fig, update, frames=n_frames, interval=50, blit=True)\n",
    "HTML(ani.to_jshtml())\n"
   ]
  },
  {
   "cell_type": "code",
   "execution_count": null,
   "id": "0a8a338b",
   "metadata": {},
   "outputs": [],
   "source": [
    "\n",
    "for idx, e in enumerate(energies):\n",
    "    print(f\"Step {idx * save_every}: Energy = {e:.3f}\")\n"
   ]
  },
  {
   "cell_type": "markdown",
   "id": "a9786353",
   "metadata": {},
   "source": []
  },
  {
   "cell_type": "code",
   "execution_count": null,
   "id": "57cefd81",
   "metadata": {},
   "outputs": [],
   "source": []
  }
 ],
 "metadata": {
  "kernelspec": {
   "display_name": "Python [conda env:base] *",
   "language": "python",
   "name": "conda-base-py"
  },
  "language_info": {
   "codemirror_mode": {
    "name": "ipython",
    "version": 3
   },
   "file_extension": ".py",
   "mimetype": "text/x-python",
   "name": "python",
   "nbconvert_exporter": "python",
   "pygments_lexer": "ipython3",
   "version": "3.13.2"
  }
 },
 "nbformat": 4,
 "nbformat_minor": 5
}
